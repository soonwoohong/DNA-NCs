{
 "cells": [
  {
   "cell_type": "code",
   "execution_count": 1,
   "metadata": {},
   "outputs": [],
   "source": [
    "import numpy as np\n",
    "import matplotlib.pyplot as plt\n",
    "import sys"
   ]
  },
  {
   "cell_type": "code",
   "execution_count": 2,
   "metadata": {},
   "outputs": [],
   "source": [
    "seq = \"AACGTAGCGT\"\n",
    "#seq = input()\n",
    "seq = seq.upper() # returns the uppercased string from the given seq\n",
    "pool = ['A', 'C', 'G', 'T']\n",
    "color_scheme = {\n",
    "    'A': [0, 0.5, 0], # Green\n",
    "    'C': [0, 0, 1], # Blue\n",
    "    'G': [1, 0.65, 0], # Yellow\n",
    "    'T': [1, 0, 0] # Red\n",
    "}\n",
    "# checking whether there is any non-nucleotide\n",
    "for test in seq:\n",
    "    if not test in pool:\n",
    "        sys.exit(\"please enter sequences only with A,C,G,T\")\n",
    "length = len(seq) # returns the length of input       \n"
   ]
  },
  {
   "cell_type": "code",
   "execution_count": 3,
   "metadata": {},
   "outputs": [
    {
     "data": {
      "image/png": "[encoded data removed]",
      "text/plain": [
       "<Figure size 720x108 with 1 Axes>"
      ]
     },
     "metadata": {},
     "output_type": "display_data"
    }
   ],
   "source": [
    "xshift = 0\n",
    "fig, ax = plt.subplots(1, 1, figsize = [length,1.5])\n",
    "ax.set_xticks(range(0,length+1))\n",
    "for base in seq:\n",
    "    txt = ax.text(x = xshift,\n",
    "                  y = 0,\n",
    "                  s = base,\n",
    "                  color = color_scheme[base],\n",
    "                  family = 'monospace',\n",
    "                  size = 100,\n",
    "                  weight = 'bold'\n",
    "                  \n",
    "                 \n",
    "                 )\n",
    "    xshift = xshift+1\n",
    "plt.xlim(0, length)   \n",
    "ax.set_xticks([])\n",
    "ax.set_yticks([])\n",
    "ax.axis('off')\n",
    "plt.savefig(seq+'.png',\n",
    "           dpi = 300,\n",
    "           bbox_inches = 'tight',\n",
    "           pad_inches = 0)"
   ]
  }
 ],
 "metadata": {
  "kernelspec": {
   "display_name": "Python 3",
   "language": "python",
   "name": "python3"
  },
  "language_info": {
   "codemirror_mode": {
    "name": "ipython",
    "version": 3
   },
   "file_extension": ".py",
   "mimetype": "text/x-python",
   "name": "python",
   "nbconvert_exporter": "python",
   "pygments_lexer": "ipython3",
   "version": "3.6.8"
  },
  "varInspector": {
   "cols": {
    "lenName": 16,
    "lenType": 16,
    "lenVar": 40
   },
   "kernels_config": {
    "python": {
     "delete_cmd_postfix": "",
     "delete_cmd_prefix": "del ",
     "library": "var_list.py",
     "varRefreshCmd": "print(var_dic_list())"
    },
    "r": {
     "delete_cmd_postfix": ") ",
     "delete_cmd_prefix": "rm(",
     "library": "var_list.r",
     "varRefreshCmd": "cat(var_dic_list()) "
    }
   },
   "position": {
    "height": "311px",
    "left": "1064px",
    "right": "20px",
    "top": "120px",
    "width": "355px"
   },
   "types_to_exclude": [
    "module",
    "function",
    "builtin_function_or_method",
    "instance",
    "_Feature"
   ],
   "window_display": true
  }
 },
 "nbformat": 4,
 "nbformat_minor": 2
}
