{
 "cells": [
  {
   "cell_type": "code",
   "execution_count": 1,
   "metadata": {},
   "outputs": [],
   "source": [
    "import numpy as np\n",
    "from sklearn.preprocessing import OneHotEncoder\n",
    "import csv\n",
    "import itertools"
   ]
  },
  {
   "cell_type": "code",
   "execution_count": 2,
   "metadata": {},
   "outputs": [],
   "source": [
    "with open('newdata_from_stacy.csv') as f:\n",
    "    reader = csv.DictReader(f)\n",
    "    data = [r for r in reader]\n",
    "        \n",
    "\n",
    "seq = []\n",
    "for i in range(len(data)):\n",
    "    seq.append(data[i]['Sequence'])\n",
    "       "
   ]
  },
  {
   "cell_type": "code",
   "execution_count": 3,
   "metadata": {},
   "outputs": [],
   "source": [
    "# alphabetical nucleotide -> integer mapping\n",
    "\n",
    "#seq_num = np.array([sequence for sequence in seq])\n",
    "seq_num = np.array([list(sequence) for sequence in seq])\n",
    "seq_num = np.char.replace(seq_num, 'A', '0')\n",
    "seq_num = np.char.replace(seq_num, 'C', '1')\n",
    "seq_num = np.char.replace(seq_num, 'G', '2')\n",
    "seq_num = np.char.replace(seq_num, 'T', '3')\n",
    "seq_num = seq_num.astype(np.int)\n",
    "\n",
    "np.savetxt('seq_num.csv', seq_num, fmt = '%1d')\n",
    "\n"
   ]
  },
  {
   "cell_type": "code",
   "execution_count": 167,
   "metadata": {},
   "outputs": [],
   "source": [
    "def k_mer_motif(seq_mat,\n",
    "                num_k,\n",
    "                num_n = 10,\n",
    "                save_or_not = True):\n",
    "    # seq_mat should be a numpy matrix (batch, num_n) with 0,1,2,3 value\n",
    "    # A:0 / C:1 / G:2 / T:3\n",
    "    # num_n represents the length of each sequence: AGCCG -> 5\n",
    "    # num_k represents the number of nucleotides in one motif: 2 -> AA/AC/AG/AT/CA ....\n",
    "    # save_or_not is a switch for saving option\n",
    "    \n",
    "    # Create a list of motif pool. The size of pool will be 4^num_k.\n",
    "    iter_pool = itertools.product('0123', repeat = num_k)\n",
    "    pool = []\n",
    "    for i in iter_pool:\n",
    "        pool.append([int(i[j]) for j in range(num_k)])\n",
    "    # Group consecutive k elements in the original dataset. [1,0,2,3,2] -> [[1,0], [0,2], [2, 3], [3, 2]]\n",
    "    seq_group = []\n",
    "    for i in range(seq_mat.shape[0]):\n",
    "        temp = []\n",
    "        for k in range(num_n-num_k+1):\n",
    "            temp.append([seq_mat[i][k+j] for j in range(num_k)])\n",
    "        seq_group.append(temp)\n",
    "        \n",
    "    # Create a blank transformed array.\n",
    "    output = np.zeros((seq_mat.shape[0], num_n-num_k+1),dtype = int)\n",
    "\n",
    "    for batch in range(seq_mat.shape[0]):\n",
    "        for val in range(len(pool)):\n",
    "            try:\n",
    "                pos = [i for i, n in enumerate(seq_group[batch]) if n == pool[val]]\n",
    "                output[batch][pos] = val\n",
    "\n",
    "            except:\n",
    "                pass\n",
    "    return output\n",
    "         "
   ]
  },
  {
   "cell_type": "code",
   "execution_count": 170,
   "metadata": {
    "scrolled": false
   },
   "outputs": [
    {
     "name": "stdout",
     "output_type": "stream",
     "text": [
      "[[163 141  55 ... 123 237 180]\n",
      " [  3  14  56 ... 134  27 109]\n",
      " [ 21  84  82 ...  47 191 252]\n",
      " ...\n",
      " [165 150  90 ... 170 169 165]\n",
      " [106 169 165 ...  90 106 168]\n",
      " [149  86  90 ... 169 165 149]]\n"
     ]
    }
   ],
   "source": [
    "a  = k_mer_motif(seq_num, 4)\n",
    "print(a)"
   ]
  },
  {
   "cell_type": "code",
   "execution_count": 100,
   "metadata": {
    "scrolled": true
   },
   "outputs": [
    {
     "name": "stdout",
     "output_type": "stream",
     "text": [
      "(array([], dtype=int64),)\n"
     ]
    },
    {
     "name": "stderr",
     "output_type": "stream",
     "text": [
      "/Library/Frameworks/Python.framework/Versions/3.6/lib/python3.6/site-packages/ipykernel_launcher.py:7: DeprecationWarning: elementwise comparison failed; this will raise an error in the future.\n",
      "  import sys\n"
     ]
    }
   ],
   "source": [
    "seq_mod = np.array([sequence for sequnece in seq])\n",
    "seq_mod = np.char.replace(seq_mod, 'A', '0')\n",
    "seq_mod = np.char.replace(seq_mod, 'C', '1')\n",
    "seq_mod = np.char.replace(seq_mod, 'G', '2')\n",
    "seq_mod = np.char.replace(seq_mod, 'T', '3')\n",
    "a = np.where(seq_num ==[0, 0])\n",
    "print(a)"
   ]
  },
  {
   "cell_type": "code",
   "execution_count": 87,
   "metadata": {
    "scrolled": true
   },
   "outputs": [
    {
     "name": "stderr",
     "output_type": "stream",
     "text": [
      "/Library/Frameworks/Python.framework/Versions/3.6/lib/python3.6/site-packages/sklearn/preprocessing/_encoders.py:415: FutureWarning: The handling of integer data will change in version 0.22. Currently, the categories are determined based on the range [0, max(values)], while in the future they will be determined based on the unique values.\n",
      "If you want the future behaviour and silence this warning, you can specify \"categories='auto'\".\n",
      "In case you used a LabelEncoder before this OneHotEncoder to convert the categories to integers, then you can now use the OneHotEncoder directly.\n",
      "  warnings.warn(msg, FutureWarning)\n"
     ]
    }
   ],
   "source": [
    "onehot_encoder = OneHotEncoder(sparse = False)\n",
    "seq_num_onehot = onehot_encoder.fit_transform(seq_num)\n",
    "seq_num_hot = np.reshape(seq_num_onehot, (-1, 10, 4))"
   ]
  },
  {
   "cell_type": "code",
   "execution_count": 126,
   "metadata": {},
   "outputs": [
    {
     "data": {
      "text/plain": [
       "[[0, 0], [0, 0], [0, 3], [3, 2], [2, 0], [0, 1], [1, 2], [2, 3], [3, 1]]"
      ]
     },
     "execution_count": 126,
     "metadata": {},
     "output_type": "execute_result"
    }
   ],
   "source": [
    "a[1]"
   ]
  },
  {
   "cell_type": "code",
   "execution_count": 140,
   "metadata": {},
   "outputs": [],
   "source": [
    "a[0]\n",
    "aa = []\n",
    "for k in range(16):\n",
    "    aa.append([i for i, n in enumerate(a[0]) if n == pool2[k]])\n",
    "    "
   ]
  },
  {
   "cell_type": "code",
   "execution_count": 139,
   "metadata": {},
   "outputs": [
    {
     "name": "stdout",
     "output_type": "stream",
     "text": [
      "0\n",
      "[2, 2]\n",
      "1\n",
      "[2, 0]\n",
      "2\n",
      "[0, 3]\n",
      "3\n",
      "[3, 1]\n",
      "4\n",
      "[1, 3]\n",
      "5\n",
      "[3, 2]\n",
      "6\n",
      "[2, 3]\n",
      "7\n",
      "[3, 1]\n",
      "8\n",
      "[1, 0]\n"
     ]
    }
   ],
   "source": [
    "for i, n in enumerate(a[0]):\n",
    "    print(i)\n",
    "    print(n)"
   ]
  },
  {
   "cell_type": "code",
   "execution_count": 154,
   "metadata": {},
   "outputs": [
    {
     "data": {
      "text/plain": [
       "3"
      ]
     },
     "execution_count": 154,
     "metadata": {},
     "output_type": "execute_result"
    }
   ],
   "source": [
    "c = [1,2,3,4,5,6,7,8,9,10]\n",
    "c[aa[3][0]]"
   ]
  },
  {
   "cell_type": "code",
   "execution_count": 142,
   "metadata": {},
   "outputs": [
    {
     "data": {
      "text/plain": [
       "[[2, 2], [2, 0], [0, 3], [3, 1], [1, 3], [3, 2], [2, 3], [3, 1], [1, 0]]"
      ]
     },
     "execution_count": 142,
     "metadata": {},
     "output_type": "execute_result"
    }
   ],
   "source": [
    "a[0]"
   ]
  },
  {
   "cell_type": "code",
   "execution_count": 143,
   "metadata": {},
   "outputs": [
    {
     "data": {
      "text/plain": [
       "[[0, 0],\n",
       " [0, 1],\n",
       " [0, 2],\n",
       " [0, 3],\n",
       " [1, 0],\n",
       " [1, 1],\n",
       " [1, 2],\n",
       " [1, 3],\n",
       " [2, 0],\n",
       " [2, 1],\n",
       " [2, 2],\n",
       " [2, 3],\n",
       " [3, 0],\n",
       " [3, 1],\n",
       " [3, 2],\n",
       " [3, 3]]"
      ]
     },
     "execution_count": 143,
     "metadata": {},
     "output_type": "execute_result"
    }
   ],
   "source": [
    "pool2"
   ]
  },
  {
   "cell_type": "code",
   "execution_count": 155,
   "metadata": {},
   "outputs": [
    {
     "data": {
      "text/plain": [
       "16"
      ]
     },
     "execution_count": 155,
     "metadata": {},
     "output_type": "execute_result"
    }
   ],
   "source": [
    "len(aa)"
   ]
  },
  {
   "cell_type": "code",
   "execution_count": 157,
   "metadata": {},
   "outputs": [
    {
     "data": {
      "text/plain": [
       "1"
      ]
     },
     "execution_count": 157,
     "metadata": {},
     "output_type": "execute_result"
    }
   ],
   "source": [
    "len(aa[3])"
   ]
  },
  {
   "cell_type": "code",
   "execution_count": 161,
   "metadata": {},
   "outputs": [
    {
     "data": {
      "text/plain": [
       "array([10,  8,  3, 13,  7, 14, 11, 13,  4])"
      ]
     },
     "execution_count": 161,
     "metadata": {},
     "output_type": "execute_result"
    }
   ],
   "source": [
    "b[0]"
   ]
  },
  {
   "cell_type": "code",
   "execution_count": 162,
   "metadata": {},
   "outputs": [
    {
     "data": {
      "text/plain": [
       "[]"
      ]
     },
     "execution_count": 162,
     "metadata": {},
     "output_type": "execute_result"
    }
   ],
   "source": [
    "aa[0]"
   ]
  },
  {
   "cell_type": "code",
   "execution_count": 163,
   "metadata": {},
   "outputs": [
    {
     "data": {
      "text/plain": [
       "[[], [], [], [2], [8], [], [], [4], [1], [], [0], [6], [], [3, 7], [5], []]"
      ]
     },
     "execution_count": 163,
     "metadata": {},
     "output_type": "execute_result"
    }
   ],
   "source": [
    "aa"
   ]
  },
  {
   "cell_type": "code",
   "execution_count": null,
   "metadata": {},
   "outputs": [],
   "source": []
  }
 ],
 "metadata": {
  "kernelspec": {
   "display_name": "Python 3",
   "language": "python",
   "name": "python3"
  },
  "language_info": {
   "codemirror_mode": {
    "name": "ipython",
    "version": 3
   },
   "file_extension": ".py",
   "mimetype": "text/x-python",
   "name": "python",
   "nbconvert_exporter": "python",
   "pygments_lexer": "ipython3",
   "version": "3.6.8"
  },
  "varInspector": {
   "cols": {
    "lenName": 16,
    "lenType": 16,
    "lenVar": 40
   },
   "kernels_config": {
    "python": {
     "delete_cmd_postfix": "",
     "delete_cmd_prefix": "del ",
     "library": "var_list.py",
     "varRefreshCmd": "print(var_dic_list())"
    },
    "r": {
     "delete_cmd_postfix": ") ",
     "delete_cmd_prefix": "rm(",
     "library": "var_list.r",
     "varRefreshCmd": "cat(var_dic_list()) "
    }
   },
   "oldHeight": 122,
   "position": {
    "height": "373px",
    "left": "840px",
    "right": "20px",
    "top": "97px",
    "width": "589px"
   },
   "types_to_exclude": [
    "module",
    "function",
    "builtin_function_or_method",
    "instance",
    "_Feature"
   ],
   "varInspector_section_display": "block",
   "window_display": true
  }
 },
 "nbformat": 4,
 "nbformat_minor": 2
}
